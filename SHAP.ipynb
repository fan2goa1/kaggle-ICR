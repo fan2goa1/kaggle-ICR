{
 "cells": [
  {
   "cell_type": "code",
   "execution_count": 160,
   "metadata": {},
   "outputs": [],
   "source": [
    "import numpy as np\n",
    "import pandas as pd\n",
    "from sklearn.preprocessing import LabelEncoder,normalize\n",
    "from sklearn.ensemble import GradientBoostingClassifier,RandomForestClassifier\n",
    "from sklearn.metrics import accuracy_score\n",
    "from sklearn.impute import SimpleImputer\n",
    "from sklearn.preprocessing import LabelEncoder\n",
    "import imblearn\n",
    "from imblearn.over_sampling import RandomOverSampler\n",
    "from imblearn.under_sampling import RandomUnderSampler\n",
    "import xgboost\n",
    "import inspect\n",
    "from collections import defaultdict\n",
    "from tabpfn import TabPFNClassifier\n",
    "import warnings\n",
    "\n",
    "warnings.filterwarnings(\"ignore\")\n",
    "pd.set_option('display.max_columns', None)\n",
    "pd.set_option('display.max_rows', None)"
   ]
  },
  {
   "cell_type": "code",
   "execution_count": 161,
   "metadata": {},
   "outputs": [],
   "source": [
    "train = pd.read_csv('./icr-identify-age-related-conditions/train.csv')\n",
    "test = pd.read_csv('./icr-identify-age-related-conditions/test.csv')\n",
    "sample = pd.read_csv('./icr-identify-age-related-conditions/sample_submission.csv')\n",
    "greeks = pd.read_csv('./icr-identify-age-related-conditions/greeks.csv')\n",
    "\n",
    "first_category = train.EJ.unique()[0]\n",
    "train.EJ = train.EJ.eq(first_category).astype('int')\n",
    "test.EJ = test.EJ.eq(first_category).astype('int')"
   ]
  },
  {
   "cell_type": "code",
   "execution_count": 162,
   "metadata": {},
   "outputs": [],
   "source": [
    "int_denominators = {\n",
    "    'AB': 0.004273,\n",
    "    'AF': 0.00242,\n",
    "    'AH': 0.008709,\n",
    "    'AM': 0.003097,\n",
    "    'AR': 0.005244,\n",
    "    'AX': 0.008859,\n",
    "    'AY': 0.000609,\n",
    "    'AZ': 0.006302,\n",
    "    'BC': 0.007028,\n",
    "    'BD ': 0.00799,\n",
    "    'BN': 0.3531,\n",
    "    'BP': 0.004239,\n",
    "    'BQ': 0.002605,\n",
    "    'BR': 0.006049,\n",
    "    'BZ': 0.004267,\n",
    "    'CB': 0.009191,\n",
    "    'CC': 6.12e-06,\n",
    "    'CD ': 0.007928,\n",
    "    'CF': 0.003041,\n",
    "    'CH': 0.000398,\n",
    "    'CL': 0.006365,\n",
    "    'CR': 7.5e-05,\n",
    "    'CS': 0.003487,\n",
    "    'CU': 0.005517,\n",
    "    'CW ': 9.2e-05,\n",
    "    'DA': 0.00388,\n",
    "    'DE': 0.004435,\n",
    "    'DF': 0.000351,\n",
    "    'DH': 0.002733,\n",
    "    'DI': 0.003765,\n",
    "    'DL': 0.00212,\n",
    "    'DN': 0.003412,\n",
    "    'DU': 0.0013794,\n",
    "    'DV': 0.00259,\n",
    "    'DY': 0.004492,\n",
    "    'EB': 0.007068,\n",
    "    'EE': 0.004031,\n",
    "    'EG': 0.006025,\n",
    "    'EH': 0.006084,\n",
    "    'EL': 0.000429,\n",
    "    'EP': 0.009269,\n",
    "    'EU': 0.005064,\n",
    "    'FC': 0.005712,\n",
    "    'FD ': 0.005937,\n",
    "    'FE': 0.007486,\n",
    "    'FI': 0.005513,\n",
    "    'FR': 0.00058,\n",
    "    'FS': 0.006773,\n",
    "    'GB': 0.009302,\n",
    "    'GE': 0.004417,\n",
    "    'GF': 0.004374,\n",
    "    'GH': 0.003721,\n",
    "    'GI': 0.002572\n",
    "}\n",
    "for k, v in int_denominators.items():\n",
    "    train[k] = np.round(train[k] / v, 1)\n",
    "    test[k] = np.round(test[k] / v, 1)\n",
    "\n",
    "# ff = ['Id', 'AH', 'BN', 'BQ', 'CB', 'CC', 'CR', 'CU', 'DA', 'DE', 'DN', 'EE', 'EP', 'FI', 'GF', 'Class']\n",
    "# gg = ['Id', 'AH', 'BN', 'BQ', 'CB', 'CC', 'CR', 'CU', 'DA', 'DE', 'DN', 'EE', 'EP', 'FI', 'GF']\n",
    "# train = train[ff]\n",
    "# test = test[gg]"
   ]
  },
  {
   "cell_type": "code",
   "execution_count": 163,
   "metadata": {},
   "outputs": [],
   "source": [
    "Imp = SimpleImputer(missing_values=np.nan, strategy='median')\n",
    "\n",
    "columns_to_select = [col for col in train.columns if col not in ['Class', 'Id']]\n",
    "\n",
    "train_data = train[columns_to_select].copy()\n",
    "test_data = test[columns_to_select].copy()\n",
    "\n",
    "# 填充缺失值\n",
    "train_data = pd.DataFrame(Imp.fit_transform(train_data), columns=columns_to_select)\n",
    "test_data = pd.DataFrame(Imp.transform(test_data), columns=columns_to_select)\n",
    "\n",
    "# 重新组合数据和原始列\n",
    "train_filled = pd.concat([train['Id'], train_data, train['Class']], axis=1)\n",
    "test_filled = pd.concat([test['Id'], test_data], axis=1)\n",
    "\n",
    "train = train_filled.copy()\n",
    "test = test_filled.copy()\n",
    "# print(train.shape, test.shape)"
   ]
  },
  {
   "cell_type": "code",
   "execution_count": 164,
   "metadata": {},
   "outputs": [
    {
     "name": "stdout",
     "output_type": "stream",
     "text": [
      "BN_binning\n",
      "3    207\n",
      "4    142\n",
      "5     95\n",
      "2     89\n",
      "6     54\n",
      "1     30\n",
      "Name: count, dtype: int64\n"
     ]
    }
   ],
   "source": [
    "from sklearn.cluster import KMeans\n",
    "\n",
    "k = 7\n",
    "BNpd = train['BN']\n",
    "\n",
    "BNpd = pd.concat([train['BN'], test['BN']], axis=0, ignore_index=True)\n",
    "data = BNpd.values.reshape(-1, 1)\n",
    "kmodel = KMeans(n_clusters=k)           # k为聚成几类\n",
    "kmodel.fit(data)  # 训练模型\n",
    "c = pd.DataFrame(kmodel.cluster_centers_, columns=['cc']) # 求聚类中心\n",
    "c0 = pd.DataFrame({'cc': [0.0]})\n",
    "c = pd.concat([c0, c], axis=0, ignore_index=True)\n",
    "c = c.sort_values(by='cc').reset_index(drop=True)\n",
    "\n",
    "# 求聚类中心之间的平均值作为分割点\n",
    "for i in range(c.shape[0] - 1):\n",
    "    c.iloc[i]['cc'] = (c.iloc[i]['cc'] + c.iloc[i+1]['cc']) / 2\n",
    "c = c.drop(c.index[-1])\n",
    "\n",
    "c0 = pd.DataFrame({'cc': [0.0]})\n",
    "cn = pd.DataFrame({'cc': [max(train['BN'].max(), test['BN'].max()) * 5]})\n",
    "c = pd.concat([c0, c, cn], axis=0, ignore_index=True)\n",
    "c = c['cc'].round().astype(int)\n",
    "c = c.unique()\n",
    "range_num = c.shape[0] - 1\n",
    "c = c.tolist()\n",
    "\n",
    "# 保留旧BN，添加BN_binning\n",
    "train_BN = train['BN'].values\n",
    "train_binning = pd.cut(train_BN, c, labels=range(range_num), include_lowest=True).astype(int)\n",
    "train['BN_binning'] = train_binning\n",
    "print(train['BN_binning'].value_counts())\n",
    "\n",
    "test_BN = test['BN'].values\n",
    "test_binning = pd.cut(test_BN, c, labels=range(range_num), include_lowest=True).astype(int)\n",
    "test['BN_binning'] = test_binning"
   ]
  },
  {
   "cell_type": "code",
   "execution_count": 165,
   "metadata": {},
   "outputs": [],
   "source": [
    "y_meta = greeks['Alpha']\n",
    "X = train.drop(columns=['Id', 'Class'])\n",
    "y = train['Class']"
   ]
  },
  {
   "cell_type": "code",
   "execution_count": 166,
   "metadata": {},
   "outputs": [],
   "source": [
    "from sklearn.metrics import make_scorer\n",
    "from sklearn.metrics import log_loss\n",
    "\n",
    "def balanced_log_loss(y_true, y_pred):\n",
    "    nc = np.bincount(y_true)\n",
    "    return log_loss(y_true, y_pred, sample_weight = 1/nc[y_true], eps=1e-15, labels=[0, 1])\n",
    "\n",
    "def calc_loss(y_pred, y):\n",
    "    probabilities = np.concatenate((y_pred[:,:1], np.sum(y_pred[:, 1:], 1, keepdims=True)), axis=1)\n",
    "    p0 = probabilities[:, :1]       # 计算class=0的概率\n",
    "    p1 = 1 - p0\n",
    "    \n",
    "    y = y.values.astype(int)\n",
    "    loss = balanced_log_loss(y, p1)\n",
    "\n",
    "    return loss\n",
    "\n",
    "def meta_to_bll(estimator, X, y):\n",
    "    y_pred = estimator.predict_proba(X)\n",
    "    y_true = np.array([0 if x == 0 else 1 for x in y])\n",
    "    probabilities = np.concatenate((y_pred[:,:1], np.sum(y_pred[:, 1:], 1, keepdims=True)), axis=1)\n",
    "    p0 = probabilities[:, :1]       # 计算class=0的概率\n",
    "    p1 = 1 - p0\n",
    "\n",
    "    loss = balanced_log_loss(y_true, p1)\n",
    "    return -loss # Note: Scikit-learn interprets higher return values as better, so you should return negative loss if you're minimizing loss.\n"
   ]
  },
  {
   "cell_type": "code",
   "execution_count": 167,
   "metadata": {},
   "outputs": [],
   "source": [
    "from sklearn.model_selection import train_test_split\n",
    "from imblearn.over_sampling import RandomOverSampler\n",
    "from sklearn.ensemble import RandomForestClassifier\n",
    "import shap\n",
    "\n",
    "# Split the data into training and testing sets\n",
    "X_train, X_test, y_train, y_test = train_test_split(X, y, test_size=0.2, random_state=42)\n",
    "\n",
    "ros = RandomOverSampler(random_state=42)\n",
    "X_train, y_train = ros.fit_resample(X_train, y_train)\n",
    "\n",
    "model = RandomForestClassifier(random_state=10)\n",
    "fit = model.fit(X_train, y_train)\n",
    "# yhat = model.predict(X_test)\n",
    "# results = balanced_log_loss(y_test, yhat)\n",
    "# print(results)"
   ]
  },
  {
   "cell_type": "code",
   "execution_count": 168,
   "metadata": {},
   "outputs": [
    {
     "data": {
      "image/png": "[encoded data removed]",
      "text/plain": [
       "<Figure size 800x950 with 1 Axes>"
      ]
     },
     "metadata": {},
     "output_type": "display_data"
    }
   ],
   "source": [
    "explainer = shap.TreeExplainer(model)\n",
    "shap_values = explainer.shap_values(X_test)\n",
    "# print(shap_values)\n",
    "shap.summary_plot(shap_values, X_test, feature_names=X_test.columns)"
   ]
  }
 ],
 "metadata": {
  "kernelspec": {
   "display_name": "Python 3",
   "language": "python",
   "name": "python3"
  },
  "language_info": {
   "codemirror_mode": {
    "name": "ipython",
    "version": 3
   },
   "file_extension": ".py",
   "mimetype": "text/x-python",
   "name": "python",
   "nbconvert_exporter": "python",
   "pygments_lexer": "ipython3",
   "version": "3.10.5"
  },
  "orig_nbformat": 4
 },
 "nbformat": 4,
 "nbformat_minor": 2
}
